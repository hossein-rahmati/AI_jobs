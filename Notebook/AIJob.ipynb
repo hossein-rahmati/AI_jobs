{
 "cells": [
  {
   "cell_type": "markdown",
   "id": "ed6a69cb",
   "metadata": {
    "id": "ed6a69cb"
   },
   "source": [
    "# AI jobs analaysis & predection"
   ]
  },
  {
   "cell_type": "markdown",
   "id": "6a7e1803",
   "metadata": {
    "id": "6a7e1803"
   },
   "source": [
    "### Import libraries"
   ]
  },
  {
   "cell_type": "code",
   "execution_count": 1,
   "id": "63984504",
   "metadata": {
    "id": "63984504"
   },
   "outputs": [],
   "source": [
    "import pandas as pd\n",
    "import numpy as np\n",
    "import matplotlib.pyplot as plt\n",
    "import seaborn as sns"
   ]
  },
  {
   "cell_type": "markdown",
   "id": "747bb2b8",
   "metadata": {
    "id": "747bb2b8"
   },
   "source": [
    "### Data preprocessing"
   ]
  },
  {
   "cell_type": "code",
   "execution_count": 2,
   "id": "02b54048",
   "metadata": {
    "colab": {
     "base_uri": "https://localhost:8080/",
     "height": 382
    },
    "id": "02b54048",
    "outputId": "863488e5-f84f-4947-f7ce-76ef2460de8e"
   },
   "outputs": [
    {
     "data": {
      "application/vnd.microsoft.datawrangler.viewer.v0+json": {
       "columns": [
        {
         "name": "index",
         "rawType": "int64",
         "type": "integer"
        },
        {
         "name": "job_id",
         "rawType": "object",
         "type": "string"
        },
        {
         "name": "job_title",
         "rawType": "object",
         "type": "string"
        },
        {
         "name": "salary_usd",
         "rawType": "int64",
         "type": "integer"
        },
        {
         "name": "salary_currency",
         "rawType": "object",
         "type": "string"
        },
        {
         "name": "experience_level",
         "rawType": "object",
         "type": "string"
        },
        {
         "name": "employment_type",
         "rawType": "object",
         "type": "string"
        },
        {
         "name": "company_location",
         "rawType": "object",
         "type": "string"
        },
        {
         "name": "company_size",
         "rawType": "object",
         "type": "string"
        },
        {
         "name": "employee_residence",
         "rawType": "object",
         "type": "string"
        },
        {
         "name": "remote_ratio",
         "rawType": "int64",
         "type": "integer"
        },
        {
         "name": "required_skills",
         "rawType": "object",
         "type": "string"
        },
        {
         "name": "education_required",
         "rawType": "object",
         "type": "string"
        },
        {
         "name": "years_experience",
         "rawType": "int64",
         "type": "integer"
        },
        {
         "name": "industry",
         "rawType": "object",
         "type": "string"
        },
        {
         "name": "posting_date",
         "rawType": "object",
         "type": "string"
        },
        {
         "name": "application_deadline",
         "rawType": "object",
         "type": "string"
        },
        {
         "name": "job_description_length",
         "rawType": "int64",
         "type": "integer"
        },
        {
         "name": "benefits_score",
         "rawType": "float64",
         "type": "float"
        },
        {
         "name": "company_name",
         "rawType": "object",
         "type": "string"
        }
       ],
       "ref": "8d4a7af2-a62a-4d14-b12d-9bccbece2914",
       "rows": [
        [
         "0",
         "AI00001",
         "AI Research Scientist",
         "90376",
         "USD",
         "SE",
         "CT",
         "China",
         "M",
         "China",
         "50",
         "Tableau, PyTorch, Kubernetes, Linux, NLP",
         "Bachelor",
         "9",
         "Automotive",
         "2024-10-18",
         "2024-11-07",
         "1076",
         "5.9",
         "Smart Analytics"
        ],
        [
         "1",
         "AI00002",
         "AI Software Engineer",
         "61895",
         "USD",
         "EN",
         "CT",
         "Canada",
         "M",
         "Ireland",
         "100",
         "Deep Learning, AWS, Mathematics, Python, Docker",
         "Master",
         "1",
         "Media",
         "2024-11-20",
         "2025-01-11",
         "1268",
         "5.2",
         "TechCorp Inc"
        ],
        [
         "2",
         "AI00003",
         "AI Specialist",
         "152626",
         "USD",
         "MI",
         "FL",
         "Switzerland",
         "L",
         "South Korea",
         "0",
         "Kubernetes, Deep Learning, Java, Hadoop, NLP",
         "Associate",
         "2",
         "Education",
         "2025-03-18",
         "2025-04-07",
         "1974",
         "9.4",
         "Autonomous Tech"
        ],
        [
         "3",
         "AI00004",
         "NLP Engineer",
         "80215",
         "USD",
         "SE",
         "FL",
         "India",
         "M",
         "India",
         "50",
         "Scala, SQL, Linux, Python",
         "PhD",
         "7",
         "Consulting",
         "2024-12-23",
         "2025-02-24",
         "1345",
         "8.6",
         "Future Systems"
        ],
        [
         "4",
         "AI00005",
         "AI Consultant",
         "54624",
         "EUR",
         "EN",
         "PT",
         "France",
         "S",
         "Singapore",
         "100",
         "MLOps, Java, Tableau, Python",
         "Master",
         "0",
         "Media",
         "2025-04-15",
         "2025-06-23",
         "1989",
         "6.6",
         "Advanced Robotics"
        ]
       ],
       "shape": {
        "columns": 19,
        "rows": 5
       }
      },
      "text/html": [
       "<div>\n",
       "<style scoped>\n",
       "    .dataframe tbody tr th:only-of-type {\n",
       "        vertical-align: middle;\n",
       "    }\n",
       "\n",
       "    .dataframe tbody tr th {\n",
       "        vertical-align: top;\n",
       "    }\n",
       "\n",
       "    .dataframe thead th {\n",
       "        text-align: right;\n",
       "    }\n",
       "</style>\n",
       "<table border=\"1\" class=\"dataframe\">\n",
       "  <thead>\n",
       "    <tr style=\"text-align: right;\">\n",
       "      <th></th>\n",
       "      <th>job_id</th>\n",
       "      <th>job_title</th>\n",
       "      <th>salary_usd</th>\n",
       "      <th>salary_currency</th>\n",
       "      <th>experience_level</th>\n",
       "      <th>employment_type</th>\n",
       "      <th>company_location</th>\n",
       "      <th>company_size</th>\n",
       "      <th>employee_residence</th>\n",
       "      <th>remote_ratio</th>\n",
       "      <th>required_skills</th>\n",
       "      <th>education_required</th>\n",
       "      <th>years_experience</th>\n",
       "      <th>industry</th>\n",
       "      <th>posting_date</th>\n",
       "      <th>application_deadline</th>\n",
       "      <th>job_description_length</th>\n",
       "      <th>benefits_score</th>\n",
       "      <th>company_name</th>\n",
       "    </tr>\n",
       "  </thead>\n",
       "  <tbody>\n",
       "    <tr>\n",
       "      <th>0</th>\n",
       "      <td>AI00001</td>\n",
       "      <td>AI Research Scientist</td>\n",
       "      <td>90376</td>\n",
       "      <td>USD</td>\n",
       "      <td>SE</td>\n",
       "      <td>CT</td>\n",
       "      <td>China</td>\n",
       "      <td>M</td>\n",
       "      <td>China</td>\n",
       "      <td>50</td>\n",
       "      <td>Tableau, PyTorch, Kubernetes, Linux, NLP</td>\n",
       "      <td>Bachelor</td>\n",
       "      <td>9</td>\n",
       "      <td>Automotive</td>\n",
       "      <td>2024-10-18</td>\n",
       "      <td>2024-11-07</td>\n",
       "      <td>1076</td>\n",
       "      <td>5.9</td>\n",
       "      <td>Smart Analytics</td>\n",
       "    </tr>\n",
       "    <tr>\n",
       "      <th>1</th>\n",
       "      <td>AI00002</td>\n",
       "      <td>AI Software Engineer</td>\n",
       "      <td>61895</td>\n",
       "      <td>USD</td>\n",
       "      <td>EN</td>\n",
       "      <td>CT</td>\n",
       "      <td>Canada</td>\n",
       "      <td>M</td>\n",
       "      <td>Ireland</td>\n",
       "      <td>100</td>\n",
       "      <td>Deep Learning, AWS, Mathematics, Python, Docker</td>\n",
       "      <td>Master</td>\n",
       "      <td>1</td>\n",
       "      <td>Media</td>\n",
       "      <td>2024-11-20</td>\n",
       "      <td>2025-01-11</td>\n",
       "      <td>1268</td>\n",
       "      <td>5.2</td>\n",
       "      <td>TechCorp Inc</td>\n",
       "    </tr>\n",
       "    <tr>\n",
       "      <th>2</th>\n",
       "      <td>AI00003</td>\n",
       "      <td>AI Specialist</td>\n",
       "      <td>152626</td>\n",
       "      <td>USD</td>\n",
       "      <td>MI</td>\n",
       "      <td>FL</td>\n",
       "      <td>Switzerland</td>\n",
       "      <td>L</td>\n",
       "      <td>South Korea</td>\n",
       "      <td>0</td>\n",
       "      <td>Kubernetes, Deep Learning, Java, Hadoop, NLP</td>\n",
       "      <td>Associate</td>\n",
       "      <td>2</td>\n",
       "      <td>Education</td>\n",
       "      <td>2025-03-18</td>\n",
       "      <td>2025-04-07</td>\n",
       "      <td>1974</td>\n",
       "      <td>9.4</td>\n",
       "      <td>Autonomous Tech</td>\n",
       "    </tr>\n",
       "    <tr>\n",
       "      <th>3</th>\n",
       "      <td>AI00004</td>\n",
       "      <td>NLP Engineer</td>\n",
       "      <td>80215</td>\n",
       "      <td>USD</td>\n",
       "      <td>SE</td>\n",
       "      <td>FL</td>\n",
       "      <td>India</td>\n",
       "      <td>M</td>\n",
       "      <td>India</td>\n",
       "      <td>50</td>\n",
       "      <td>Scala, SQL, Linux, Python</td>\n",
       "      <td>PhD</td>\n",
       "      <td>7</td>\n",
       "      <td>Consulting</td>\n",
       "      <td>2024-12-23</td>\n",
       "      <td>2025-02-24</td>\n",
       "      <td>1345</td>\n",
       "      <td>8.6</td>\n",
       "      <td>Future Systems</td>\n",
       "    </tr>\n",
       "    <tr>\n",
       "      <th>4</th>\n",
       "      <td>AI00005</td>\n",
       "      <td>AI Consultant</td>\n",
       "      <td>54624</td>\n",
       "      <td>EUR</td>\n",
       "      <td>EN</td>\n",
       "      <td>PT</td>\n",
       "      <td>France</td>\n",
       "      <td>S</td>\n",
       "      <td>Singapore</td>\n",
       "      <td>100</td>\n",
       "      <td>MLOps, Java, Tableau, Python</td>\n",
       "      <td>Master</td>\n",
       "      <td>0</td>\n",
       "      <td>Media</td>\n",
       "      <td>2025-04-15</td>\n",
       "      <td>2025-06-23</td>\n",
       "      <td>1989</td>\n",
       "      <td>6.6</td>\n",
       "      <td>Advanced Robotics</td>\n",
       "    </tr>\n",
       "  </tbody>\n",
       "</table>\n",
       "</div>"
      ],
      "text/plain": [
       "    job_id              job_title  salary_usd salary_currency  \\\n",
       "0  AI00001  AI Research Scientist       90376             USD   \n",
       "1  AI00002   AI Software Engineer       61895             USD   \n",
       "2  AI00003          AI Specialist      152626             USD   \n",
       "3  AI00004           NLP Engineer       80215             USD   \n",
       "4  AI00005          AI Consultant       54624             EUR   \n",
       "\n",
       "  experience_level employment_type company_location company_size  \\\n",
       "0               SE              CT            China            M   \n",
       "1               EN              CT           Canada            M   \n",
       "2               MI              FL      Switzerland            L   \n",
       "3               SE              FL            India            M   \n",
       "4               EN              PT           France            S   \n",
       "\n",
       "  employee_residence  remote_ratio  \\\n",
       "0              China            50   \n",
       "1            Ireland           100   \n",
       "2        South Korea             0   \n",
       "3              India            50   \n",
       "4          Singapore           100   \n",
       "\n",
       "                                   required_skills education_required  \\\n",
       "0         Tableau, PyTorch, Kubernetes, Linux, NLP           Bachelor   \n",
       "1  Deep Learning, AWS, Mathematics, Python, Docker             Master   \n",
       "2     Kubernetes, Deep Learning, Java, Hadoop, NLP          Associate   \n",
       "3                        Scala, SQL, Linux, Python                PhD   \n",
       "4                     MLOps, Java, Tableau, Python             Master   \n",
       "\n",
       "   years_experience    industry posting_date application_deadline  \\\n",
       "0                 9  Automotive   2024-10-18           2024-11-07   \n",
       "1                 1       Media   2024-11-20           2025-01-11   \n",
       "2                 2   Education   2025-03-18           2025-04-07   \n",
       "3                 7  Consulting   2024-12-23           2025-02-24   \n",
       "4                 0       Media   2025-04-15           2025-06-23   \n",
       "\n",
       "   job_description_length  benefits_score       company_name  \n",
       "0                    1076             5.9    Smart Analytics  \n",
       "1                    1268             5.2       TechCorp Inc  \n",
       "2                    1974             9.4    Autonomous Tech  \n",
       "3                    1345             8.6     Future Systems  \n",
       "4                    1989             6.6  Advanced Robotics  "
      ]
     },
     "execution_count": 2,
     "metadata": {},
     "output_type": "execute_result"
    }
   ],
   "source": [
    "df = pd.read_csv(\"../Data/ai_job_dataset.csv\")\n",
    "df.head()"
   ]
  },
  {
   "cell_type": "code",
   "execution_count": 3,
   "id": "f484c1ca",
   "metadata": {
    "colab": {
     "base_uri": "https://localhost:8080/",
     "height": 774
    },
    "id": "f484c1ca",
    "outputId": "386ab15d-a9b3-4ff0-9960-a6bb9d40eaf8"
   },
   "outputs": [
    {
     "data": {
      "application/vnd.microsoft.datawrangler.viewer.v0+json": {
       "columns": [
        {
         "name": "index",
         "rawType": "object",
         "type": "string"
        },
        {
         "name": "salary_usd",
         "rawType": "float64",
         "type": "float"
        },
        {
         "name": "remote_ratio",
         "rawType": "float64",
         "type": "float"
        },
        {
         "name": "years_experience",
         "rawType": "float64",
         "type": "float"
        },
        {
         "name": "job_description_length",
         "rawType": "float64",
         "type": "float"
        },
        {
         "name": "benefits_score",
         "rawType": "float64",
         "type": "float"
        }
       ],
       "ref": "98d0e27b-54c1-417b-84ff-53776d7ff254",
       "rows": [
        [
         "count",
         "15000.0",
         "15000.0",
         "15000.0",
         "15000.0",
         "15000.0"
        ],
        [
         "mean",
         "115348.96513333333",
         "49.483333333333334",
         "6.2532",
         "1503.3147333333334",
         "7.504273333333334"
        ],
        [
         "std",
         "60260.94043824822",
         "40.81271167235938",
         "5.545767767346566",
         "576.1270832932632",
         "1.4508696496026827"
        ],
        [
         "min",
         "32519.0",
         "0.0",
         "0.0",
         "500.0",
         "5.0"
        ],
        [
         "25%",
         "70179.75",
         "0.0",
         "2.0",
         "1003.75",
         "6.2"
        ],
        [
         "50%",
         "99705.0",
         "50.0",
         "5.0",
         "1512.0",
         "7.5"
        ],
        [
         "75%",
         "146408.5",
         "100.0",
         "10.0",
         "2000.0",
         "8.8"
        ],
        [
         "max",
         "399095.0",
         "100.0",
         "19.0",
         "2499.0",
         "10.0"
        ]
       ],
       "shape": {
        "columns": 5,
        "rows": 8
       }
      },
      "text/html": [
       "<div>\n",
       "<style scoped>\n",
       "    .dataframe tbody tr th:only-of-type {\n",
       "        vertical-align: middle;\n",
       "    }\n",
       "\n",
       "    .dataframe tbody tr th {\n",
       "        vertical-align: top;\n",
       "    }\n",
       "\n",
       "    .dataframe thead th {\n",
       "        text-align: right;\n",
       "    }\n",
       "</style>\n",
       "<table border=\"1\" class=\"dataframe\">\n",
       "  <thead>\n",
       "    <tr style=\"text-align: right;\">\n",
       "      <th></th>\n",
       "      <th>salary_usd</th>\n",
       "      <th>remote_ratio</th>\n",
       "      <th>years_experience</th>\n",
       "      <th>job_description_length</th>\n",
       "      <th>benefits_score</th>\n",
       "    </tr>\n",
       "  </thead>\n",
       "  <tbody>\n",
       "    <tr>\n",
       "      <th>count</th>\n",
       "      <td>15000.000000</td>\n",
       "      <td>15000.000000</td>\n",
       "      <td>15000.000000</td>\n",
       "      <td>15000.000000</td>\n",
       "      <td>15000.000000</td>\n",
       "    </tr>\n",
       "    <tr>\n",
       "      <th>mean</th>\n",
       "      <td>115348.965133</td>\n",
       "      <td>49.483333</td>\n",
       "      <td>6.253200</td>\n",
       "      <td>1503.314733</td>\n",
       "      <td>7.504273</td>\n",
       "    </tr>\n",
       "    <tr>\n",
       "      <th>std</th>\n",
       "      <td>60260.940438</td>\n",
       "      <td>40.812712</td>\n",
       "      <td>5.545768</td>\n",
       "      <td>576.127083</td>\n",
       "      <td>1.450870</td>\n",
       "    </tr>\n",
       "    <tr>\n",
       "      <th>min</th>\n",
       "      <td>32519.000000</td>\n",
       "      <td>0.000000</td>\n",
       "      <td>0.000000</td>\n",
       "      <td>500.000000</td>\n",
       "      <td>5.000000</td>\n",
       "    </tr>\n",
       "    <tr>\n",
       "      <th>25%</th>\n",
       "      <td>70179.750000</td>\n",
       "      <td>0.000000</td>\n",
       "      <td>2.000000</td>\n",
       "      <td>1003.750000</td>\n",
       "      <td>6.200000</td>\n",
       "    </tr>\n",
       "    <tr>\n",
       "      <th>50%</th>\n",
       "      <td>99705.000000</td>\n",
       "      <td>50.000000</td>\n",
       "      <td>5.000000</td>\n",
       "      <td>1512.000000</td>\n",
       "      <td>7.500000</td>\n",
       "    </tr>\n",
       "    <tr>\n",
       "      <th>75%</th>\n",
       "      <td>146408.500000</td>\n",
       "      <td>100.000000</td>\n",
       "      <td>10.000000</td>\n",
       "      <td>2000.000000</td>\n",
       "      <td>8.800000</td>\n",
       "    </tr>\n",
       "    <tr>\n",
       "      <th>max</th>\n",
       "      <td>399095.000000</td>\n",
       "      <td>100.000000</td>\n",
       "      <td>19.000000</td>\n",
       "      <td>2499.000000</td>\n",
       "      <td>10.000000</td>\n",
       "    </tr>\n",
       "  </tbody>\n",
       "</table>\n",
       "</div>"
      ],
      "text/plain": [
       "          salary_usd  remote_ratio  years_experience  job_description_length  \\\n",
       "count   15000.000000  15000.000000      15000.000000            15000.000000   \n",
       "mean   115348.965133     49.483333          6.253200             1503.314733   \n",
       "std     60260.940438     40.812712          5.545768              576.127083   \n",
       "min     32519.000000      0.000000          0.000000              500.000000   \n",
       "25%     70179.750000      0.000000          2.000000             1003.750000   \n",
       "50%     99705.000000     50.000000          5.000000             1512.000000   \n",
       "75%    146408.500000    100.000000         10.000000             2000.000000   \n",
       "max    399095.000000    100.000000         19.000000             2499.000000   \n",
       "\n",
       "       benefits_score  \n",
       "count    15000.000000  \n",
       "mean         7.504273  \n",
       "std          1.450870  \n",
       "min          5.000000  \n",
       "25%          6.200000  \n",
       "50%          7.500000  \n",
       "75%          8.800000  \n",
       "max         10.000000  "
      ]
     },
     "execution_count": 3,
     "metadata": {},
     "output_type": "execute_result"
    }
   ],
   "source": [
    "df.describe()"
   ]
  },
  {
   "cell_type": "code",
   "execution_count": 4,
   "id": "ff5e2749",
   "metadata": {
    "colab": {
     "base_uri": "https://localhost:8080/"
    },
    "id": "ff5e2749",
    "outputId": "953f0dc0-6aa6-4a91-8292-1837e7b1b799"
   },
   "outputs": [
    {
     "name": "stdout",
     "output_type": "stream",
     "text": [
      "<class 'pandas.core.frame.DataFrame'>\n",
      "RangeIndex: 15000 entries, 0 to 14999\n",
      "Data columns (total 19 columns):\n",
      " #   Column                  Non-Null Count  Dtype  \n",
      "---  ------                  --------------  -----  \n",
      " 0   job_id                  15000 non-null  object \n",
      " 1   job_title               15000 non-null  object \n",
      " 2   salary_usd              15000 non-null  int64  \n",
      " 3   salary_currency         15000 non-null  object \n",
      " 4   experience_level        15000 non-null  object \n",
      " 5   employment_type         15000 non-null  object \n",
      " 6   company_location        15000 non-null  object \n",
      " 7   company_size            15000 non-null  object \n",
      " 8   employee_residence      15000 non-null  object \n",
      " 9   remote_ratio            15000 non-null  int64  \n",
      " 10  required_skills         15000 non-null  object \n",
      " 11  education_required      15000 non-null  object \n",
      " 12  years_experience        15000 non-null  int64  \n",
      " 13  industry                15000 non-null  object \n",
      " 14  posting_date            15000 non-null  object \n",
      " 15  application_deadline    15000 non-null  object \n",
      " 16  job_description_length  15000 non-null  int64  \n",
      " 17  benefits_score          15000 non-null  float64\n",
      " 18  company_name            15000 non-null  object \n",
      "dtypes: float64(1), int64(4), object(14)\n",
      "memory usage: 2.2+ MB\n"
     ]
    }
   ],
   "source": [
    "df.info()"
   ]
  },
  {
   "cell_type": "markdown",
   "id": "6009d033",
   "metadata": {
    "id": "6009d033"
   },
   "source": [
    "#### Drop Unnecessary columns"
   ]
  },
  {
   "cell_type": "code",
   "execution_count": 5,
   "id": "2c64fe64",
   "metadata": {
    "id": "2c64fe64"
   },
   "outputs": [],
   "source": [
    "df = df.drop(\n",
    "    [\n",
    "        \"job_id\",\n",
    "        \"job_title\",\n",
    "        \"salary_currency\",\n",
    "        \"posting_date\",\n",
    "        \"application_deadline\",\n",
    "        \"job_description_length\",\n",
    "        \"benefits_score\",\n",
    "        \"company_name\",\n",
    "        \"required_skills\",\n",
    "        \"employee_residence\",\n",
    "        \"company_size\",\n",
    "        \"industry\",\n",
    "        \n",
    "    ],\n",
    "    axis=1,\n",
    ")"
   ]
  },
  {
   "cell_type": "code",
   "execution_count": 6,
   "id": "403e8cb5-e2b9-44da-893c-e18c92abab9b",
   "metadata": {
    "colab": {
     "base_uri": "https://localhost:8080/",
     "height": 382
    },
    "id": "403e8cb5-e2b9-44da-893c-e18c92abab9b",
    "outputId": "d40a51da-2e77-4cf4-881c-adc1d615cc00"
   },
   "outputs": [
    {
     "data": {
      "application/vnd.microsoft.datawrangler.viewer.v0+json": {
       "columns": [
        {
         "name": "index",
         "rawType": "int64",
         "type": "integer"
        },
        {
         "name": "salary_usd",
         "rawType": "int64",
         "type": "integer"
        },
        {
         "name": "experience_level",
         "rawType": "object",
         "type": "string"
        },
        {
         "name": "employment_type",
         "rawType": "object",
         "type": "string"
        },
        {
         "name": "company_location",
         "rawType": "object",
         "type": "string"
        },
        {
         "name": "remote_ratio",
         "rawType": "int64",
         "type": "integer"
        },
        {
         "name": "education_required",
         "rawType": "object",
         "type": "string"
        },
        {
         "name": "years_experience",
         "rawType": "int64",
         "type": "integer"
        }
       ],
       "ref": "c0227317-2e4b-44a1-ae52-0a2bfe63f604",
       "rows": [
        [
         "0",
         "90376",
         "SE",
         "CT",
         "China",
         "50",
         "Bachelor",
         "9"
        ],
        [
         "1",
         "61895",
         "EN",
         "CT",
         "Canada",
         "100",
         "Master",
         "1"
        ],
        [
         "2",
         "152626",
         "MI",
         "FL",
         "Switzerland",
         "0",
         "Associate",
         "2"
        ],
        [
         "3",
         "80215",
         "SE",
         "FL",
         "India",
         "50",
         "PhD",
         "7"
        ],
        [
         "4",
         "54624",
         "EN",
         "PT",
         "France",
         "100",
         "Master",
         "0"
        ]
       ],
       "shape": {
        "columns": 7,
        "rows": 5
       }
      },
      "text/html": [
       "<div>\n",
       "<style scoped>\n",
       "    .dataframe tbody tr th:only-of-type {\n",
       "        vertical-align: middle;\n",
       "    }\n",
       "\n",
       "    .dataframe tbody tr th {\n",
       "        vertical-align: top;\n",
       "    }\n",
       "\n",
       "    .dataframe thead th {\n",
       "        text-align: right;\n",
       "    }\n",
       "</style>\n",
       "<table border=\"1\" class=\"dataframe\">\n",
       "  <thead>\n",
       "    <tr style=\"text-align: right;\">\n",
       "      <th></th>\n",
       "      <th>salary_usd</th>\n",
       "      <th>experience_level</th>\n",
       "      <th>employment_type</th>\n",
       "      <th>company_location</th>\n",
       "      <th>remote_ratio</th>\n",
       "      <th>education_required</th>\n",
       "      <th>years_experience</th>\n",
       "    </tr>\n",
       "  </thead>\n",
       "  <tbody>\n",
       "    <tr>\n",
       "      <th>0</th>\n",
       "      <td>90376</td>\n",
       "      <td>SE</td>\n",
       "      <td>CT</td>\n",
       "      <td>China</td>\n",
       "      <td>50</td>\n",
       "      <td>Bachelor</td>\n",
       "      <td>9</td>\n",
       "    </tr>\n",
       "    <tr>\n",
       "      <th>1</th>\n",
       "      <td>61895</td>\n",
       "      <td>EN</td>\n",
       "      <td>CT</td>\n",
       "      <td>Canada</td>\n",
       "      <td>100</td>\n",
       "      <td>Master</td>\n",
       "      <td>1</td>\n",
       "    </tr>\n",
       "    <tr>\n",
       "      <th>2</th>\n",
       "      <td>152626</td>\n",
       "      <td>MI</td>\n",
       "      <td>FL</td>\n",
       "      <td>Switzerland</td>\n",
       "      <td>0</td>\n",
       "      <td>Associate</td>\n",
       "      <td>2</td>\n",
       "    </tr>\n",
       "    <tr>\n",
       "      <th>3</th>\n",
       "      <td>80215</td>\n",
       "      <td>SE</td>\n",
       "      <td>FL</td>\n",
       "      <td>India</td>\n",
       "      <td>50</td>\n",
       "      <td>PhD</td>\n",
       "      <td>7</td>\n",
       "    </tr>\n",
       "    <tr>\n",
       "      <th>4</th>\n",
       "      <td>54624</td>\n",
       "      <td>EN</td>\n",
       "      <td>PT</td>\n",
       "      <td>France</td>\n",
       "      <td>100</td>\n",
       "      <td>Master</td>\n",
       "      <td>0</td>\n",
       "    </tr>\n",
       "  </tbody>\n",
       "</table>\n",
       "</div>"
      ],
      "text/plain": [
       "   salary_usd experience_level employment_type company_location  remote_ratio  \\\n",
       "0       90376               SE              CT            China            50   \n",
       "1       61895               EN              CT           Canada           100   \n",
       "2      152626               MI              FL      Switzerland             0   \n",
       "3       80215               SE              FL            India            50   \n",
       "4       54624               EN              PT           France           100   \n",
       "\n",
       "  education_required  years_experience  \n",
       "0           Bachelor                 9  \n",
       "1             Master                 1  \n",
       "2          Associate                 2  \n",
       "3                PhD                 7  \n",
       "4             Master                 0  "
      ]
     },
     "execution_count": 6,
     "metadata": {},
     "output_type": "execute_result"
    }
   ],
   "source": [
    "df.head()"
   ]
  },
  {
   "cell_type": "markdown",
   "id": "534e9004",
   "metadata": {},
   "source": [
    "#### Swaping the Target column"
   ]
  },
  {
   "cell_type": "code",
   "execution_count": 7,
   "id": "e2de6ccc-15b1-4b56-8a29-cfa01e8a9938",
   "metadata": {
    "colab": {
     "base_uri": "https://localhost:8080/",
     "height": 382
    },
    "id": "e2de6ccc-15b1-4b56-8a29-cfa01e8a9938",
    "outputId": "c9448d19-70dc-411d-cc21-81c38b0d15da"
   },
   "outputs": [
    {
     "data": {
      "application/vnd.microsoft.datawrangler.viewer.v0+json": {
       "columns": [
        {
         "name": "index",
         "rawType": "int64",
         "type": "integer"
        },
        {
         "name": "years_experience",
         "rawType": "int64",
         "type": "integer"
        },
        {
         "name": "experience_level",
         "rawType": "object",
         "type": "string"
        },
        {
         "name": "employment_type",
         "rawType": "object",
         "type": "string"
        },
        {
         "name": "company_location",
         "rawType": "object",
         "type": "string"
        },
        {
         "name": "remote_ratio",
         "rawType": "int64",
         "type": "integer"
        },
        {
         "name": "education_required",
         "rawType": "object",
         "type": "string"
        },
        {
         "name": "salary_usd",
         "rawType": "int64",
         "type": "integer"
        }
       ],
       "ref": "eedf660e-1ab7-47ed-8eb0-8db8f9fd797c",
       "rows": [
        [
         "0",
         "9",
         "SE",
         "CT",
         "China",
         "50",
         "Bachelor",
         "90376"
        ],
        [
         "1",
         "1",
         "EN",
         "CT",
         "Canada",
         "100",
         "Master",
         "61895"
        ],
        [
         "2",
         "2",
         "MI",
         "FL",
         "Switzerland",
         "0",
         "Associate",
         "152626"
        ],
        [
         "3",
         "7",
         "SE",
         "FL",
         "India",
         "50",
         "PhD",
         "80215"
        ],
        [
         "4",
         "0",
         "EN",
         "PT",
         "France",
         "100",
         "Master",
         "54624"
        ]
       ],
       "shape": {
        "columns": 7,
        "rows": 5
       }
      },
      "text/html": [
       "<div>\n",
       "<style scoped>\n",
       "    .dataframe tbody tr th:only-of-type {\n",
       "        vertical-align: middle;\n",
       "    }\n",
       "\n",
       "    .dataframe tbody tr th {\n",
       "        vertical-align: top;\n",
       "    }\n",
       "\n",
       "    .dataframe thead th {\n",
       "        text-align: right;\n",
       "    }\n",
       "</style>\n",
       "<table border=\"1\" class=\"dataframe\">\n",
       "  <thead>\n",
       "    <tr style=\"text-align: right;\">\n",
       "      <th></th>\n",
       "      <th>years_experience</th>\n",
       "      <th>experience_level</th>\n",
       "      <th>employment_type</th>\n",
       "      <th>company_location</th>\n",
       "      <th>remote_ratio</th>\n",
       "      <th>education_required</th>\n",
       "      <th>salary_usd</th>\n",
       "    </tr>\n",
       "  </thead>\n",
       "  <tbody>\n",
       "    <tr>\n",
       "      <th>0</th>\n",
       "      <td>9</td>\n",
       "      <td>SE</td>\n",
       "      <td>CT</td>\n",
       "      <td>China</td>\n",
       "      <td>50</td>\n",
       "      <td>Bachelor</td>\n",
       "      <td>90376</td>\n",
       "    </tr>\n",
       "    <tr>\n",
       "      <th>1</th>\n",
       "      <td>1</td>\n",
       "      <td>EN</td>\n",
       "      <td>CT</td>\n",
       "      <td>Canada</td>\n",
       "      <td>100</td>\n",
       "      <td>Master</td>\n",
       "      <td>61895</td>\n",
       "    </tr>\n",
       "    <tr>\n",
       "      <th>2</th>\n",
       "      <td>2</td>\n",
       "      <td>MI</td>\n",
       "      <td>FL</td>\n",
       "      <td>Switzerland</td>\n",
       "      <td>0</td>\n",
       "      <td>Associate</td>\n",
       "      <td>152626</td>\n",
       "    </tr>\n",
       "    <tr>\n",
       "      <th>3</th>\n",
       "      <td>7</td>\n",
       "      <td>SE</td>\n",
       "      <td>FL</td>\n",
       "      <td>India</td>\n",
       "      <td>50</td>\n",
       "      <td>PhD</td>\n",
       "      <td>80215</td>\n",
       "    </tr>\n",
       "    <tr>\n",
       "      <th>4</th>\n",
       "      <td>0</td>\n",
       "      <td>EN</td>\n",
       "      <td>PT</td>\n",
       "      <td>France</td>\n",
       "      <td>100</td>\n",
       "      <td>Master</td>\n",
       "      <td>54624</td>\n",
       "    </tr>\n",
       "  </tbody>\n",
       "</table>\n",
       "</div>"
      ],
      "text/plain": [
       "   years_experience experience_level employment_type company_location  \\\n",
       "0                 9               SE              CT            China   \n",
       "1                 1               EN              CT           Canada   \n",
       "2                 2               MI              FL      Switzerland   \n",
       "3                 7               SE              FL            India   \n",
       "4                 0               EN              PT           France   \n",
       "\n",
       "   remote_ratio education_required  salary_usd  \n",
       "0            50           Bachelor       90376  \n",
       "1           100             Master       61895  \n",
       "2             0          Associate      152626  \n",
       "3            50                PhD       80215  \n",
       "4           100             Master       54624  "
      ]
     },
     "execution_count": 7,
     "metadata": {},
     "output_type": "execute_result"
    }
   ],
   "source": [
    "columns = list(df.columns)\n",
    "\n",
    "salary = columns.index(\"salary_usd\")\n",
    "experience = columns.index(\"years_experience\")\n",
    "\n",
    "columns[salary] , columns[experience] = columns[experience],columns[salary]\n",
    "df = df[columns]\n",
    "\n",
    "df.head()\n"
   ]
  },
  {
   "cell_type": "markdown",
   "id": "9912379d",
   "metadata": {},
   "source": [
    "### Label encoding the ordinal columns"
   ]
  },
  {
   "cell_type": "code",
   "execution_count": null,
   "id": "069069e2-b29b-456c-b38a-373932c8c6e2",
   "metadata": {},
   "outputs": [
    {
     "data": {
      "application/vnd.microsoft.datawrangler.viewer.v0+json": {
       "columns": [
        {
         "name": "index",
         "rawType": "int64",
         "type": "integer"
        },
        {
         "name": "years_experience",
         "rawType": "int64",
         "type": "integer"
        },
        {
         "name": "experience_level",
         "rawType": "int32",
         "type": "integer"
        },
        {
         "name": "employment_type",
         "rawType": "int32",
         "type": "integer"
        },
        {
         "name": "company_location",
         "rawType": "object",
         "type": "string"
        },
        {
         "name": "remote_ratio",
         "rawType": "int64",
         "type": "integer"
        },
        {
         "name": "education_required",
         "rawType": "int32",
         "type": "integer"
        },
        {
         "name": "salary_usd",
         "rawType": "int64",
         "type": "integer"
        }
       ],
       "ref": "540725c5-0f2e-4e5a-b55f-b69632b9c60e",
       "rows": [
        [
         "0",
         "9",
         "3",
         "0",
         "China",
         "50",
         "1",
         "90376"
        ],
        [
         "1",
         "1",
         "0",
         "0",
         "Canada",
         "100",
         "2",
         "61895"
        ],
        [
         "2",
         "2",
         "2",
         "1",
         "Switzerland",
         "0",
         "0",
         "152626"
        ],
        [
         "3",
         "7",
         "3",
         "1",
         "India",
         "50",
         "3",
         "80215"
        ],
        [
         "4",
         "0",
         "0",
         "3",
         "France",
         "100",
         "2",
         "54624"
        ]
       ],
       "shape": {
        "columns": 7,
        "rows": 5
       }
      },
      "text/html": [
       "<div>\n",
       "<style scoped>\n",
       "    .dataframe tbody tr th:only-of-type {\n",
       "        vertical-align: middle;\n",
       "    }\n",
       "\n",
       "    .dataframe tbody tr th {\n",
       "        vertical-align: top;\n",
       "    }\n",
       "\n",
       "    .dataframe thead th {\n",
       "        text-align: right;\n",
       "    }\n",
       "</style>\n",
       "<table border=\"1\" class=\"dataframe\">\n",
       "  <thead>\n",
       "    <tr style=\"text-align: right;\">\n",
       "      <th></th>\n",
       "      <th>years_experience</th>\n",
       "      <th>experience_level</th>\n",
       "      <th>employment_type</th>\n",
       "      <th>company_location</th>\n",
       "      <th>remote_ratio</th>\n",
       "      <th>education_required</th>\n",
       "      <th>salary_usd</th>\n",
       "    </tr>\n",
       "  </thead>\n",
       "  <tbody>\n",
       "    <tr>\n",
       "      <th>0</th>\n",
       "      <td>9</td>\n",
       "      <td>3</td>\n",
       "      <td>0</td>\n",
       "      <td>China</td>\n",
       "      <td>50</td>\n",
       "      <td>1</td>\n",
       "      <td>90376</td>\n",
       "    </tr>\n",
       "    <tr>\n",
       "      <th>1</th>\n",
       "      <td>1</td>\n",
       "      <td>0</td>\n",
       "      <td>0</td>\n",
       "      <td>Canada</td>\n",
       "      <td>100</td>\n",
       "      <td>2</td>\n",
       "      <td>61895</td>\n",
       "    </tr>\n",
       "    <tr>\n",
       "      <th>2</th>\n",
       "      <td>2</td>\n",
       "      <td>2</td>\n",
       "      <td>1</td>\n",
       "      <td>Switzerland</td>\n",
       "      <td>0</td>\n",
       "      <td>0</td>\n",
       "      <td>152626</td>\n",
       "    </tr>\n",
       "    <tr>\n",
       "      <th>3</th>\n",
       "      <td>7</td>\n",
       "      <td>3</td>\n",
       "      <td>1</td>\n",
       "      <td>India</td>\n",
       "      <td>50</td>\n",
       "      <td>3</td>\n",
       "      <td>80215</td>\n",
       "    </tr>\n",
       "    <tr>\n",
       "      <th>4</th>\n",
       "      <td>0</td>\n",
       "      <td>0</td>\n",
       "      <td>3</td>\n",
       "      <td>France</td>\n",
       "      <td>100</td>\n",
       "      <td>2</td>\n",
       "      <td>54624</td>\n",
       "    </tr>\n",
       "  </tbody>\n",
       "</table>\n",
       "</div>"
      ],
      "text/plain": [
       "   years_experience  experience_level  employment_type company_location  \\\n",
       "0                 9                 3                0            China   \n",
       "1                 1                 0                0           Canada   \n",
       "2                 2                 2                1      Switzerland   \n",
       "3                 7                 3                1            India   \n",
       "4                 0                 0                3           France   \n",
       "\n",
       "   remote_ratio  education_required  salary_usd  \n",
       "0            50                   1       90376  \n",
       "1           100                   2       61895  \n",
       "2             0                   0      152626  \n",
       "3            50                   3       80215  \n",
       "4           100                   2       54624  "
      ]
     },
     "execution_count": 8,
     "metadata": {},
     "output_type": "execute_result"
    }
   ],
   "source": [
    "from sklearn.preprocessing import LabelEncoder\n",
    "le = LabelEncoder()\n",
    "\n",
    "df['experience_level'] = le.fit_transform(df['experience_level'])\n",
    "df['employment_type'] = le.fit_transform(df['employment_type'])\n",
    "df['education_required'] = le.fit_transform(df['education_required'])\n",
    "\n",
    "df.head()"
   ]
  },
  {
   "cell_type": "code",
   "execution_count": null,
   "id": "93660233-4589-49c8-a856-0b3d34a131c3",
   "metadata": {},
   "outputs": [
    {
     "name": "stdout",
     "output_type": "stream",
     "text": [
      "[[7 3 2 'China' 100 2]\n",
      " [6 3 3 'Austria' 0 3]\n",
      " [14 1 0 'Austria' 50 3]\n",
      " ...\n",
      " [6 3 2 'Norway' 50 3]\n",
      " [2 2 1 'Denmark' 100 0]\n",
      " [10 1 2 'India' 0 2]]\n"
     ]
    }
   ],
   "source": [
    "X = df.iloc[:,:-1].values\n",
    "y = df.iloc[:,-1].values"
   ]
  },
  {
   "cell_type": "markdown",
   "id": "23e6ca6c",
   "metadata": {},
   "source": [
    "### One hot encoding on categorical columns"
   ]
  },
  {
   "cell_type": "code",
   "execution_count": 23,
   "id": "3ca757ca",
   "metadata": {},
   "outputs": [
    {
     "name": "stdout",
     "output_type": "stream",
     "text": [
      "[[1.0 0.0 0.0 ... 0 50 1]\n",
      " [1.0 0.0 1.0 ... 0 100 2]\n",
      " [1.0 0.0 1.0 ... 1 0 0]\n",
      " ...\n",
      " [1.0 0.0 1.0 ... 0 50 0]\n",
      " [1.0 0.0 1.0 ... 2 0 3]\n",
      " [0.0 1.0 1.0 ... 3 50 3]]\n"
     ]
    }
   ],
   "source": [
    "from sklearn.preprocessing import OneHotEncoder\n",
    "from sklearn.compose import ColumnTransformer\n",
    "\n",
    "ct = ColumnTransformer(\n",
    "    transformers=[\n",
    "        ('onehot', OneHotEncoder(sparse_output=False), [3])\n",
    "    ],\n",
    "    remainder='passthrough'\n",
    ")\n",
    "\n",
    "X = np.array(ct.fit_transform(X))\n",
    "column_names = ct.get_feature_names_out()\n",
    "\n",
    "print(X)"
   ]
  },
  {
   "cell_type": "code",
   "execution_count": 18,
   "id": "4daa9e97",
   "metadata": {},
   "outputs": [
    {
     "name": "stdout",
     "output_type": "stream",
     "text": [
      "[[1.0 0.0 0.0 ... 1 0 1]\n",
      " [1.0 0.0 0.0 ... 3 0 2]\n",
      " [1.0 0.0 0.0 ... 0 0 2]\n",
      " ...\n",
      " [1.0 0.0 0.0 ... 3 0 3]\n",
      " [1.0 0.0 0.0 ... 3 50 2]\n",
      " [1.0 0.0 0.0 ... 3 0 1]]\n"
     ]
    }
   ],
   "source": [
    "from sklearn.model_selection import train_test_split\n",
    "\n",
    "X_train, X_test, y_train, y_test = train_test_split(\n",
    "    X, y, random_state=42, test_size=0.2\n",
    ")\n",
    "\n",
    "print(X_train)"
   ]
  },
  {
   "cell_type": "markdown",
   "id": "78b9468c-d246-4953-a6f7-ca9ba857390c",
   "metadata": {},
   "source": [
    "### Model training"
   ]
  },
  {
   "cell_type": "code",
   "execution_count": 34,
   "id": "a3821a21-dbc3-441b-a5a8-1baede440888",
   "metadata": {},
   "outputs": [
    {
     "name": "stdout",
     "output_type": "stream",
     "text": [
      "R-squared: 0.8115\n"
     ]
    }
   ],
   "source": [
    "from sklearn.ensemble import RandomForestRegressor\n",
    "from sklearn.metrics import r2_score\n",
    "\n",
    "model = RandomForestRegressor(\n",
    "    n_estimators=200, random_state=42, n_jobs=-1, max_depth=10, min_samples_leaf=5\n",
    ")\n",
    "\n",
    "model.fit(X_train, y_train)\n",
    "\n",
    "y_pred = model.predict(X_test)\n",
    "\n",
    "r2 = r2_score(y_test, y_pred)\n",
    "\n",
    "print(f\"R-squared: {r2:.4f}\")"
   ]
  }
 ],
 "metadata": {
  "colab": {
   "provenance": []
  },
  "kernelspec": {
   "display_name": "base",
   "language": "python",
   "name": "python3"
  },
  "language_info": {
   "codemirror_mode": {
    "name": "ipython",
    "version": 3
   },
   "file_extension": ".py",
   "mimetype": "text/x-python",
   "name": "python",
   "nbconvert_exporter": "python",
   "pygments_lexer": "ipython3",
   "version": "3.12.7"
  }
 },
 "nbformat": 4,
 "nbformat_minor": 5
}
